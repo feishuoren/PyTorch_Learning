{
 "cells": [
  {
   "cell_type": "code",
   "execution_count": 1,
   "metadata": {},
   "outputs": [],
   "source": [
    "# 导入相关的包\n",
    "\n",
    "# 随机模块\n",
    "import random\n",
    "\n",
    "# 绘图模块\n",
    "import matplotlib as mpl\n",
    "import matplotlib.pyplot as plt\n",
    "\n",
    "# numpy\n",
    "import numpy as np\n",
    "\n",
    "# pytorch\n",
    "import torch\n",
    "from torch import nn,optim\n",
    "from torch.nn import MSELoss # class\n",
    "import torch.nn.functional as F\n",
    "from torch.utils.data import Dataset,TensorDataset,DataLoader\n",
    "from torch.utils.tensorboard import SummaryWriter\n",
    "\n",
    "# 导入自定义模块\n",
    "from torchLearning import *\n",
    "\n",
    "# 导入以下包从而使得可以在 jupyter 中的 cell 输出多个结果\n",
    "from IPython.core.interactiveshell import InteractiveShell\n",
    "InteractiveShell.ast_node_interactivity = \"all\""
   ]
  },
  {
   "cell_type": "code",
   "execution_count": 2,
   "metadata": {},
   "outputs": [
    {
     "data": {
      "text/plain": [
       "<torch._C.Generator at 0x7fa0c2c216b0>"
      ]
     },
     "execution_count": 2,
     "metadata": {},
     "output_type": "execute_result"
    }
   ],
   "source": [
    "torch.manual_seed(420)\n",
    "\n",
    "features, labels = tensorGenReg(w=[2,-1,3,1,2],bias=False,deg=2)\n",
    "# Batch_size调整\n",
    "train_loader, test_loader = split_loader(features,labels,batch_size=50)"
   ]
  },
  {
   "cell_type": "code",
   "execution_count": 3,
   "metadata": {},
   "outputs": [
    {
     "data": {
      "text/plain": [
       "<torch._C.Generator at 0x7fa0c2c216b0>"
      ]
     },
     "execution_count": 3,
     "metadata": {},
     "output_type": "execute_result"
    }
   ],
   "source": [
    "torch.manual_seed(24)\n",
    "\n",
    "tanh_model3 = net_class3(act_fun = torch.tanh,in_features=5)\n",
    "tanh_model3_norm = net_class3(act_fun = torch.tanh, in_features=5, BN_model = 'pre')\n",
    "tanh_model4 = net_class3(act_fun = torch.tanh,in_features=5)\n",
    "tanh_model4_norm = net_class3(act_fun = torch.tanh, in_features=5, BN_model = 'pre')\n",
    "\n",
    "\n",
    "model_l = [tanh_model3, tanh_model3_norm, tanh_model4, tanh_model4_norm]\n",
    "name_l = ['tanh_model3', 'tanh_model3_norm', 'tanh_model4', 'tanh_model4_norm']\n",
    "\n",
    "# 核心参数\n",
    "lr = 0.1\n",
    "num_epochs = 40\n",
    "\n",
    "# 模型训练\n",
    "train_l1, test_l1 = model_comparison(model_l = model_l,\n",
    "                                   name_l = name_l,\n",
    "                                   train_data = train_loader,\n",
    "                                   test_data = test_loader,\n",
    "                                   num_epochs = num_epochs,\n",
    "                                   criterion = nn.MSELoss(),\n",
    "                                   optimizer = optim.SGD,\n",
    "                                   lr = lr,\n",
    "                                   cla = False,\n",
    "                                   eva = mse_cal)"
   ]
  },
  {
   "cell_type": "code",
   "execution_count": 4,
   "metadata": {},
   "outputs": [
    {
     "data": {
      "text/plain": [
       "<torch._C.Generator at 0x7fa0c2c216b0>"
      ]
     },
     "execution_count": 4,
     "metadata": {},
     "output_type": "execute_result"
    }
   ],
   "source": [
    "torch.manual_seed(24)\n",
    "\n",
    "tanh_model3 = net_class3(act_fun = torch.tanh,in_features=5)\n",
    "tanh_model3_norm = net_class3(act_fun = torch.tanh, in_features=5, BN_model = 'pre')\n",
    "tanh_model4 = net_class3(act_fun = torch.tanh,in_features=5)\n",
    "tanh_model4_norm = net_class3(act_fun = torch.tanh, in_features=5, BN_model = 'pre')\n",
    "\n",
    "\n",
    "model_l = [tanh_model3, tanh_model3_norm, tanh_model4, tanh_model4_norm]\n",
    "name_l = ['tanh_model3', 'tanh_model3_norm', 'tanh_model4', 'tanh_model4_norm']\n",
    "\n",
    "# 核心参数\n",
    "lr = 0.03\n",
    "num_epochs = 40\n",
    "\n",
    "# 模型训练\n",
    "train_l2, test_l2 = model_comparison(model_l = model_l,\n",
    "                                   name_l = name_l,\n",
    "                                   train_data = train_loader,\n",
    "                                   test_data = test_loader,\n",
    "                                   num_epochs = num_epochs,\n",
    "                                   criterion = nn.MSELoss(),\n",
    "                                   optimizer = optim.SGD,\n",
    "                                   lr = lr,\n",
    "                                   cla = False,\n",
    "                                   eva = mse_cal)"
   ]
  },
  {
   "cell_type": "code",
   "execution_count": 5,
   "metadata": {},
   "outputs": [
    {
     "data": {
      "text/plain": [
       "<torch._C.Generator at 0x7fa0c2c216b0>"
      ]
     },
     "execution_count": 5,
     "metadata": {},
     "output_type": "execute_result"
    }
   ],
   "source": [
    "torch.manual_seed(24)\n",
    "\n",
    "tanh_model3 = net_class3(act_fun = torch.tanh,in_features=5)\n",
    "tanh_model3_norm = net_class3(act_fun = torch.tanh, in_features=5, BN_model = 'pre')\n",
    "tanh_model4 = net_class3(act_fun = torch.tanh,in_features=5)\n",
    "tanh_model4_norm = net_class3(act_fun = torch.tanh, in_features=5, BN_model = 'pre')\n",
    "\n",
    "\n",
    "model_l = [tanh_model3, tanh_model3_norm, tanh_model4, tanh_model4_norm]\n",
    "name_l = ['tanh_model3', 'tanh_model3_norm', 'tanh_model4', 'tanh_model4_norm']\n",
    "\n",
    "# 核心参数\n",
    "lr = 0.01\n",
    "num_epochs = 40\n",
    "\n",
    "# 模型训练\n",
    "train_l3, test_l3 = model_comparison(model_l = model_l,\n",
    "                                   name_l = name_l,\n",
    "                                   train_data = train_loader,\n",
    "                                   test_data = test_loader,\n",
    "                                   num_epochs = num_epochs,\n",
    "                                   criterion = nn.MSELoss(),\n",
    "                                   optimizer = optim.SGD,\n",
    "                                   lr = lr,\n",
    "                                   cla = False,\n",
    "                                   eva = mse_cal)"
   ]
  },
  {
   "cell_type": "code",
   "execution_count": 6,
   "metadata": {},
   "outputs": [
    {
     "data": {
      "text/plain": [
       "<torch._C.Generator at 0x7fa0c2c216b0>"
      ]
     },
     "execution_count": 6,
     "metadata": {},
     "output_type": "execute_result"
    }
   ],
   "source": [
    "torch.manual_seed(24)\n",
    "\n",
    "tanh_model3 = net_class3(act_fun = torch.tanh,in_features=5)\n",
    "tanh_model3_norm = net_class3(act_fun = torch.tanh, in_features=5, BN_model = 'pre')\n",
    "tanh_model4 = net_class3(act_fun = torch.tanh,in_features=5)\n",
    "tanh_model4_norm = net_class3(act_fun = torch.tanh, in_features=5, BN_model = 'pre')\n",
    "\n",
    "\n",
    "model_l = [tanh_model3, tanh_model3_norm, tanh_model4, tanh_model4_norm]\n",
    "name_l = ['tanh_model3', 'tanh_model3_norm', 'tanh_model4', 'tanh_model4_norm']\n",
    "\n",
    "# 核心参数\n",
    "lr = 0.005\n",
    "num_epochs = 40\n",
    "\n",
    "# 模型训练\n",
    "train_l4, test_l4 = model_comparison(model_l = model_l,\n",
    "                                   name_l = name_l,\n",
    "                                   train_data = train_loader,\n",
    "                                   test_data = test_loader,\n",
    "                                   num_epochs = num_epochs,\n",
    "                                   criterion = nn.MSELoss(),\n",
    "                                   optimizer = optim.SGD,\n",
    "                                   lr = lr,\n",
    "                                   cla = False,\n",
    "                                   eva = mse_cal)"
   ]
  },
  {
   "cell_type": "code",
   "execution_count": 7,
   "metadata": {},
   "outputs": [
    {
     "data": {
      "text/plain": [
       "<matplotlib.axes._subplots.AxesSubplot at 0x7fa0c5238040>"
      ]
     },
     "execution_count": 7,
     "metadata": {},
     "output_type": "execute_result"
    },
    {
     "data": {
      "text/plain": [
       "[<matplotlib.lines.Line2D at 0x7fa0c5278880>]"
      ]
     },
     "execution_count": 7,
     "metadata": {},
     "output_type": "execute_result"
    },
    {
     "data": {
      "text/plain": [
       "[<matplotlib.lines.Line2D at 0x7fa0c5278be0>]"
      ]
     },
     "execution_count": 7,
     "metadata": {},
     "output_type": "execute_result"
    },
    {
     "data": {
      "text/plain": [
       "[<matplotlib.lines.Line2D at 0x7fa0c5278f40>]"
      ]
     },
     "execution_count": 7,
     "metadata": {},
     "output_type": "execute_result"
    },
    {
     "data": {
      "text/plain": [
       "[<matplotlib.lines.Line2D at 0x7fa0c52922e0>]"
      ]
     },
     "execution_count": 7,
     "metadata": {},
     "output_type": "execute_result"
    },
    {
     "data": {
      "text/plain": [
       "<matplotlib.legend.Legend at 0x7fa0c52787c0>"
      ]
     },
     "execution_count": 7,
     "metadata": {},
     "output_type": "execute_result"
    },
    {
     "data": {
      "text/plain": [
       "Text(0.5, 1.0, 'mse_train_0.1')"
      ]
     },
     "execution_count": 7,
     "metadata": {},
     "output_type": "execute_result"
    },
    {
     "data": {
      "text/plain": [
       "<matplotlib.axes._subplots.AxesSubplot at 0x7fa0c52786d0>"
      ]
     },
     "execution_count": 7,
     "metadata": {},
     "output_type": "execute_result"
    },
    {
     "data": {
      "text/plain": [
       "[<matplotlib.lines.Line2D at 0x7fa0c52ce640>]"
      ]
     },
     "execution_count": 7,
     "metadata": {},
     "output_type": "execute_result"
    },
    {
     "data": {
      "text/plain": [
       "[<matplotlib.lines.Line2D at 0x7fa0c52ce8e0>]"
      ]
     },
     "execution_count": 7,
     "metadata": {},
     "output_type": "execute_result"
    },
    {
     "data": {
      "text/plain": [
       "[<matplotlib.lines.Line2D at 0x7fa0c52cec40>]"
      ]
     },
     "execution_count": 7,
     "metadata": {},
     "output_type": "execute_result"
    },
    {
     "data": {
      "text/plain": [
       "[<matplotlib.lines.Line2D at 0x7fa0c52cefa0>]"
      ]
     },
     "execution_count": 7,
     "metadata": {},
     "output_type": "execute_result"
    },
    {
     "data": {
      "text/plain": [
       "<matplotlib.legend.Legend at 0x7fa0c52ce1c0>"
      ]
     },
     "execution_count": 7,
     "metadata": {},
     "output_type": "execute_result"
    },
    {
     "data": {
      "text/plain": [
       "Text(0.5, 1.0, 'mse_train_0.03')"
      ]
     },
     "execution_count": 7,
     "metadata": {},
     "output_type": "execute_result"
    },
    {
     "data": {
      "text/plain": [
       "<matplotlib.axes._subplots.AxesSubplot at 0x7fa0c52e21c0>"
      ]
     },
     "execution_count": 7,
     "metadata": {},
     "output_type": "execute_result"
    },
    {
     "data": {
      "text/plain": [
       "[<matplotlib.lines.Line2D at 0x7fa0c5323280>]"
      ]
     },
     "execution_count": 7,
     "metadata": {},
     "output_type": "execute_result"
    },
    {
     "data": {
      "text/plain": [
       "[<matplotlib.lines.Line2D at 0x7fa0c53235e0>]"
      ]
     },
     "execution_count": 7,
     "metadata": {},
     "output_type": "execute_result"
    },
    {
     "data": {
      "text/plain": [
       "[<matplotlib.lines.Line2D at 0x7fa0c5323940>]"
      ]
     },
     "execution_count": 7,
     "metadata": {},
     "output_type": "execute_result"
    },
    {
     "data": {
      "text/plain": [
       "[<matplotlib.lines.Line2D at 0x7fa0c5323ca0>]"
      ]
     },
     "execution_count": 7,
     "metadata": {},
     "output_type": "execute_result"
    },
    {
     "data": {
      "text/plain": [
       "<matplotlib.legend.Legend at 0x7fa0c530d040>"
      ]
     },
     "execution_count": 7,
     "metadata": {},
     "output_type": "execute_result"
    },
    {
     "data": {
      "text/plain": [
       "Text(0.5, 1.0, 'mse_train_0.01')"
      ]
     },
     "execution_count": 7,
     "metadata": {},
     "output_type": "execute_result"
    },
    {
     "data": {
      "text/plain": [
       "<matplotlib.axes._subplots.AxesSubplot at 0x7fa0c5323fa0>"
      ]
     },
     "execution_count": 7,
     "metadata": {},
     "output_type": "execute_result"
    },
    {
     "data": {
      "text/plain": [
       "[<matplotlib.lines.Line2D at 0x7fa0c5358eb0>]"
      ]
     },
     "execution_count": 7,
     "metadata": {},
     "output_type": "execute_result"
    },
    {
     "data": {
      "text/plain": [
       "[<matplotlib.lines.Line2D at 0x7fa0c536b250>]"
      ]
     },
     "execution_count": 7,
     "metadata": {},
     "output_type": "execute_result"
    },
    {
     "data": {
      "text/plain": [
       "[<matplotlib.lines.Line2D at 0x7fa0c536b5b0>]"
      ]
     },
     "execution_count": 7,
     "metadata": {},
     "output_type": "execute_result"
    },
    {
     "data": {
      "text/plain": [
       "[<matplotlib.lines.Line2D at 0x7fa0c536b910>]"
      ]
     },
     "execution_count": 7,
     "metadata": {},
     "output_type": "execute_result"
    },
    {
     "data": {
      "text/plain": [
       "<matplotlib.legend.Legend at 0x7fa0c5358b20>"
      ]
     },
     "execution_count": 7,
     "metadata": {},
     "output_type": "execute_result"
    },
    {
     "data": {
      "text/plain": [
       "Text(0.5, 1.0, 'mse_train_0.005')"
      ]
     },
     "execution_count": 7,
     "metadata": {},
     "output_type": "execute_result"
    },
    {
     "data": {
      "image/png": "[encoded data removed]",
      "text/plain": [
       "<Figure size 432x288 with 4 Axes>"
      ]
     },
     "metadata": {
      "needs_background": "light"
     },
     "output_type": "display_data"
    }
   ],
   "source": [
    "# 训练误差\n",
    "plt.subplot(221)\n",
    "for i,name in enumerate(name_l):\n",
    "    plt.plot(list(range(num_epochs)), train_l1[i], label=name)\n",
    "    \n",
    "plt.legend(loc=1)\n",
    "plt.title('mse_train_0.1')\n",
    "\n",
    "\n",
    "plt.subplot(222)\n",
    "for i,name in enumerate(name_l):\n",
    "    plt.plot(list(range(num_epochs)), train_l2[i], label=name)\n",
    "    \n",
    "plt.legend(loc=1)\n",
    "plt.title('mse_train_0.03')\n",
    "\n",
    "\n",
    "plt.subplot(223)\n",
    "for i,name in enumerate(name_l):\n",
    "    plt.plot(list(range(num_epochs)), train_l3[i], label=name)\n",
    "    \n",
    "plt.legend(loc=1)\n",
    "plt.title('mse_train_0.01')\n",
    "\n",
    "\n",
    "plt.subplot(224)\n",
    "for i,name in enumerate(name_l):\n",
    "    plt.plot(list(range(num_epochs)), train_l4[i], label=name)\n",
    "    \n",
    "plt.legend(loc=1)\n",
    "plt.title('mse_train_0.005')"
   ]
  },
  {
   "cell_type": "code",
   "execution_count": 8,
   "metadata": {},
   "outputs": [],
   "source": [
    "# 学习率调低时，模型效果提升，过低反之（0.001）"
   ]
  },
  {
   "cell_type": "code",
   "execution_count": 9,
   "metadata": {},
   "outputs": [],
   "source": [
    "# 模型的复杂程度本身也是一种超参数"
   ]
  },
  {
   "cell_type": "markdown",
   "metadata": {},
   "source": [
    "# BN层神经网络模型调参策略\n",
    "- 简单数据、简单模型不用BN层，效果不显著\n",
    "- BN层的使用需要保持running_mean和running_var的无偏性，因此需要谨慎调整batch_size\n",
    "- 学习率是重要的模型优化的超参数，一般来说学习率学习曲线都是U型曲线\n",
    "- 从学习率调整角度出发，对于加入BN层的模型，学习率调整更加有效\n",
    "- 对于带BN层模型角度来说，BN层能够帮助模型拓展优化空间，使得很多优化方法都能在原先无效的模型上生效\n",
    "- 对于复杂问题，在计算能力能够承担的范围内，应当首先构建带BN层的复杂模型，然后再试图进行优化"
   ]
  },
  {
   "cell_type": "markdown",
   "metadata": {},
   "source": [
    "> 关于BN和Xavier/Kaiming方法,一般来说使用了BN层的模型不会再使用参数初始化方法/Dropout方法。理论上来说BN层能够起到参数初始化的想等效果"
   ]
  },
  {
   "cell_type": "markdown",
   "metadata": {},
   "source": [
    "Dead ReLU Problem的规避方法：\n",
    "- 谨慎设置模型初始值\n",
    "- 减少学习率\n",
    "- BN"
   ]
  },
  {
   "cell_type": "markdown",
   "metadata": {},
   "source": [
    "# 学习率调度\n",
    "让学习率伴随模型训练过程动态调整\n",
    ">学习率动态调整策略： 先让学习率取得较大数值，从而能让模型在最开始较快收敛；经过一段时间迭代之后，调小学习率，从而让收敛过程穿过损失函数的“隘口”，抵达更小的解"
   ]
  },
  {
   "cell_type": "code",
   "execution_count": 10,
   "metadata": {},
   "outputs": [],
   "source": [
    "def fit(net,criterion,optimizer,batchData,epochs=3,cla=False):\n",
    "    \"\"\"模型训练函数\n",
    "    param net: 待训练的模型\n",
    "    param citerion: 损失函数\n",
    "    param optimizer: 优化算法\n",
    "    param batchData: 训练数据集\n",
    "    param cla: 是否是分类问题\n",
    "    param epochs: 遍历数据次数\n",
    "    \n",
    "    \"\"\"\n",
    "    \n",
    "    for epoch in range(epochs):\n",
    "        for X,y in batchData:\n",
    "            if cla == True:\n",
    "                y = y.flatten().long() # 如果是分类问题，要对y进行整数转化\n",
    "            yhat = net.forward(X)\n",
    "            loss = criterion(yhat,y)\n",
    "            optimizer.zero_grad()\n",
    "            loss.backward()\n",
    "            optimizer.step()"
   ]
  },
  {
   "cell_type": "code",
   "execution_count": 11,
   "metadata": {},
   "outputs": [],
   "source": [
    "# 在原有fit函数基础上增加每一轮迭代后模型评估结果的记录功能"
   ]
  },
  {
   "cell_type": "code",
   "execution_count": 12,
   "metadata": {},
   "outputs": [],
   "source": [
    "def fit_rec(net,criterion,optimizer,train_data,test_data,epochs=3,cla=False,eva=mse_cal):\n",
    "    \"\"\"模型训练函数(记录每一次便利后模型评估指标)\n",
    "    \n",
    "    param net: 待训练的模型\n",
    "    param citerion: 损失函数\n",
    "    param optimizer: 优化算法\n",
    "    param train_data: 训练数据\n",
    "    param test_data: 测试数据\n",
    "    param cla: 是否是分类问题\n",
    "    param epochs: 遍历数据次数\n",
    "    param eva: 模型评估结果\n",
    "    \n",
    "    return : 模型评估结果\n",
    "    \n",
    "    \"\"\"\n",
    "    \n",
    "    train_l = []\n",
    "    test_l = []\n",
    "    \n",
    "    for epoch in range(epochs):\n",
    "        net.train()\n",
    "        for X,y in train_data:\n",
    "            if cla == True:\n",
    "                y = y.flatten().long() # 如果是分类问题，要对y进行整数转化\n",
    "            yhat = net.forward(X)\n",
    "            loss = criterion(yhat,y)\n",
    "            optimizer.zero_grad()\n",
    "            loss.backward()\n",
    "            optimizer.step()\n",
    "        net.eval()\n",
    "        train_l.append(eva(train_data, net).detach())\n",
    "        test_l.append(eva(test_data, net).detach())\n",
    "        \n",
    "    return train_l, test_l"
   ]
  },
  {
   "cell_type": "code",
   "execution_count": 13,
   "metadata": {},
   "outputs": [
    {
     "data": {
      "text/plain": [
       "<torch._C.Generator at 0x7fa0c2c216b0>"
      ]
     },
     "execution_count": 13,
     "metadata": {},
     "output_type": "execute_result"
    }
   ],
   "source": [
    "# 实例化模型\n",
    "torch.manual_seed(24)\n",
    "\n",
    "tanh_model = net_class2(act_fun = torch.tanh, in_features=5, BN_model='pre')"
   ]
  },
  {
   "cell_type": "code",
   "execution_count": 14,
   "metadata": {},
   "outputs": [
    {
     "data": {
      "text/plain": [
       "([tensor(38.0332), tensor(32.9891), tensor(30.3684)],\n",
       " [tensor(37.7882), tensor(33.5270), tensor(31.5411)])"
      ]
     },
     "execution_count": 14,
     "metadata": {},
     "output_type": "execute_result"
    }
   ],
   "source": [
    "fit_rec(net=tanh_model,\n",
    "       criterion=nn.MSELoss(),\n",
    "       optimizer=optim.SGD(tanh_model.parameters(),lr = 0.03),\n",
    "       train_data = train_loader,\n",
    "       test_data = test_loader,\n",
    "       epochs = 3,\n",
    "       cla = False,\n",
    "       eva = mse_cal)"
   ]
  },
  {
   "cell_type": "code",
   "execution_count": 15,
   "metadata": {},
   "outputs": [],
   "source": [
    "# 手动动态调整过程"
   ]
  },
  {
   "cell_type": "code",
   "execution_count": 16,
   "metadata": {},
   "outputs": [
    {
     "data": {
      "text/plain": [
       "<torch._C.Generator at 0x7fa0c2c216b0>"
      ]
     },
     "execution_count": 16,
     "metadata": {},
     "output_type": "execute_result"
    }
   ],
   "source": [
    "# 实例化模型\n",
    "torch.manual_seed(24)\n",
    "\n",
    "tanh_model = net_class2(act_fun = torch.tanh, in_features=5, BN_model='pre')"
   ]
  },
  {
   "cell_type": "code",
   "execution_count": 17,
   "metadata": {},
   "outputs": [
    {
     "name": "stdin",
     "output_type": "stream",
     "text": [
      "Do you want to continue the iteration? [y/n] y\n",
      "NUmber of epochs: 30\n",
      "Updata learning rate: 0.03\n",
      "Do you want to continue the iteration? [y/n] y\n",
      "NUmber of epochs: 30\n",
      "Updata learning rate: 0.01\n",
      "Do you want to continue the iteration? [y/n] n\n"
     ]
    }
   ],
   "source": [
    "# 创建用于保存记录结果的空列表容器\n",
    "train_mse = []\n",
    "test_mse = []\n",
    "\n",
    "# 创建可以捕捉手动输入数据的模型训练流程\n",
    "while input(\"Do you want to continue the iteration? [y/n]\") == \"y\":\n",
    "    epochs = int(input(\"NUmber of epochs:\"))\n",
    "    lr = float(input(\"Updata learning rate:\"))\n",
    "    train_l, test_l = fit_rec(net=tanh_model,\n",
    "                              criterion=nn.MSELoss(),\n",
    "                              optimizer=optim.SGD(tanh_model.parameters(),lr = lr),\n",
    "                              train_data = train_loader,\n",
    "                              test_data = test_loader,\n",
    "                              epochs = epochs,\n",
    "                              cla = False,\n",
    "                              eva = mse_cal)\n",
    "    train_mse.extend(train_l)\n",
    "    test_mse.extend(test_l) # extent会将list所有元素每一个追加进去"
   ]
  },
  {
   "cell_type": "code",
   "execution_count": 18,
   "metadata": {},
   "outputs": [
    {
     "data": {
      "text/plain": [
       "[<matplotlib.lines.Line2D at 0x7fa0c54b9340>]"
      ]
     },
     "execution_count": 18,
     "metadata": {},
     "output_type": "execute_result"
    },
    {
     "data": {
      "text/plain": [
       "<matplotlib.legend.Legend at 0x7fa0c53f6760>"
      ]
     },
     "execution_count": 18,
     "metadata": {},
     "output_type": "execute_result"
    },
    {
     "data": {
      "image/png": "[encoded data removed]",
      "text/plain": [
       "<Figure size 432x288 with 1 Axes>"
      ]
     },
     "metadata": {
      "needs_background": "light"
     },
     "output_type": "display_data"
    }
   ],
   "source": [
    "plt.plot(train_mse, label = \"train_mse\")\n",
    "plt.legend(loc=1)"
   ]
  },
  {
   "cell_type": "code",
   "execution_count": 19,
   "metadata": {},
   "outputs": [
    {
     "data": {
      "text/plain": [
       "<torch._C.Generator at 0x7fa0c2c216b0>"
      ]
     },
     "execution_count": 19,
     "metadata": {},
     "output_type": "execute_result"
    }
   ],
   "source": [
    "# 实例化模型\n",
    "torch.manual_seed(24)\n",
    "\n",
    "tanh_model = net_class2(act_fun = torch.tanh, in_features=5, BN_model='pre')"
   ]
  },
  {
   "cell_type": "code",
   "execution_count": 20,
   "metadata": {},
   "outputs": [
    {
     "name": "stdin",
     "output_type": "stream",
     "text": [
      "Do you want to continue the iteration? [y/n] y\n",
      "NUmber of epochs: 60\n",
      "Updata learning rate: 0.03\n",
      "Do you want to continue the iteration? [y/n] n\n"
     ]
    }
   ],
   "source": [
    "# 创建用于保存记录结果的空列表容器\n",
    "train_msel = []\n",
    "test_msel = []\n",
    "\n",
    "# 创建可以捕捉手动输入数据的模型训练流程\n",
    "while input(\"Do you want to continue the iteration? [y/n]\") == \"y\":\n",
    "    epochs = int(input(\"NUmber of epochs:\"))\n",
    "    lr = float(input(\"Updata learning rate:\"))\n",
    "    train_l, test_l = fit_rec(net=tanh_model,\n",
    "                              criterion=nn.MSELoss(),\n",
    "                              optimizer=optim.SGD(tanh_model.parameters(),lr = lr),\n",
    "                              train_data = train_loader,\n",
    "                              test_data = test_loader,\n",
    "                              epochs = epochs,\n",
    "                              cla = False,\n",
    "                              eva = mse_cal)\n",
    "    train_msel.extend(train_l)\n",
    "    test_msel.extend(test_l) # extent会将list所有元素每一个追加进去"
   ]
  },
  {
   "cell_type": "code",
   "execution_count": 21,
   "metadata": {},
   "outputs": [
    {
     "data": {
      "text/plain": [
       "[<matplotlib.lines.Line2D at 0x7fa0c551b040>]"
      ]
     },
     "execution_count": 21,
     "metadata": {},
     "output_type": "execute_result"
    },
    {
     "data": {
      "text/plain": [
       "[<matplotlib.lines.Line2D at 0x7fa0c5511070>]"
      ]
     },
     "execution_count": 21,
     "metadata": {},
     "output_type": "execute_result"
    },
    {
     "data": {
      "text/plain": [
       "Text(0.5, 0, 'epochs')"
      ]
     },
     "execution_count": 21,
     "metadata": {},
     "output_type": "execute_result"
    },
    {
     "data": {
      "text/plain": [
       "Text(0, 0.5, 'MSE')"
      ]
     },
     "execution_count": 21,
     "metadata": {},
     "output_type": "execute_result"
    },
    {
     "data": {
      "text/plain": [
       "<matplotlib.legend.Legend at 0x7fa0c551b820>"
      ]
     },
     "execution_count": 21,
     "metadata": {},
     "output_type": "execute_result"
    },
    {
     "data": {
      "image/png": "[encoded data removed]",
      "text/plain": [
       "<Figure size 432x288 with 1 Axes>"
      ]
     },
     "metadata": {
      "needs_background": "light"
     },
     "output_type": "display_data"
    }
   ],
   "source": [
    "plt.plot(train_mse, label=\"train_mse\")\n",
    "plt.plot(train_msel, label=\"train_msel\")\n",
    "plt.xlabel(\"epochs\")\n",
    "plt.ylabel('MSE')\n",
    "plt.legend(loc=1)"
   ]
  },
  {
   "cell_type": "code",
   "execution_count": 22,
   "metadata": {},
   "outputs": [
    {
     "data": {
      "text/plain": [
       "<torch._C.Generator at 0x7fa0c2c216b0>"
      ]
     },
     "execution_count": 22,
     "metadata": {},
     "output_type": "execute_result"
    }
   ],
   "source": [
    "# 实例化模型\n",
    "torch.manual_seed(24)\n",
    "\n",
    "tanh_model = net_class2(act_fun = torch.tanh, in_features=5, BN_model='pre')"
   ]
  },
  {
   "cell_type": "code",
   "execution_count": 23,
   "metadata": {},
   "outputs": [
    {
     "name": "stdin",
     "output_type": "stream",
     "text": [
      "Do you want to continue the iteration? [y/n] y\n",
      "NUmber of epochs: 60\n",
      "Updata learning rate: 0.01\n",
      "Do you want to continue the iteration? [y/n] n\n"
     ]
    }
   ],
   "source": [
    "# 创建用于保存记录结果的空列表容器\n",
    "train_mses = []\n",
    "test_mses = []\n",
    "\n",
    "# 创建可以捕捉手动输入数据的模型训练流程\n",
    "while input(\"Do you want to continue the iteration? [y/n]\") == \"y\":\n",
    "    epochs = int(input(\"NUmber of epochs:\"))\n",
    "    lr = float(input(\"Updata learning rate:\"))\n",
    "    train_l, test_l = fit_rec(net=tanh_model,\n",
    "                              criterion=nn.MSELoss(),\n",
    "                              optimizer=optim.SGD(tanh_model.parameters(),lr = lr),\n",
    "                              train_data = train_loader,\n",
    "                              test_data = test_loader,\n",
    "                              epochs = epochs,\n",
    "                              cla = False,\n",
    "                              eva = mse_cal)\n",
    "    train_mses.extend(train_l)\n",
    "    test_mses.extend(test_l) # extent会将list所有元素每一个追加进去"
   ]
  },
  {
   "cell_type": "code",
   "execution_count": 24,
   "metadata": {},
   "outputs": [
    {
     "data": {
      "text/plain": [
       "[<matplotlib.lines.Line2D at 0x7fa0c53ab850>]"
      ]
     },
     "execution_count": 24,
     "metadata": {},
     "output_type": "execute_result"
    },
    {
     "data": {
      "text/plain": [
       "[<matplotlib.lines.Line2D at 0x7fa0c53abe20>]"
      ]
     },
     "execution_count": 24,
     "metadata": {},
     "output_type": "execute_result"
    },
    {
     "data": {
      "text/plain": [
       "Text(0.5, 0, 'epochs')"
      ]
     },
     "execution_count": 24,
     "metadata": {},
     "output_type": "execute_result"
    },
    {
     "data": {
      "text/plain": [
       "Text(0, 0.5, 'MSE')"
      ]
     },
     "execution_count": 24,
     "metadata": {},
     "output_type": "execute_result"
    },
    {
     "data": {
      "text/plain": [
       "<matplotlib.legend.Legend at 0x7fa0c53f14c0>"
      ]
     },
     "execution_count": 24,
     "metadata": {},
     "output_type": "execute_result"
    },
    {
     "data": {
      "image/png": "[encoded data removed]",
      "text/plain": [
       "<Figure size 432x288 with 1 Axes>"
      ]
     },
     "metadata": {
      "needs_background": "light"
     },
     "output_type": "display_data"
    }
   ],
   "source": [
    "plt.plot(train_mse, label=\"train_mse\")\n",
    "plt.plot(train_mses, label=\"train_mses\")\n",
    "plt.xlabel(\"epochs\")\n",
    "plt.ylabel('MSE')\n",
    "plt.legend(loc=1)"
   ]
  },
  {
   "cell_type": "markdown",
   "metadata": {},
   "source": [
    "### 使用 tensorboard 观察模型训练结果\n",
    "可以中断重连"
   ]
  },
  {
   "cell_type": "code",
   "execution_count": 25,
   "metadata": {},
   "outputs": [
    {
     "data": {
      "text/plain": [
       "<torch._C.Generator at 0x7fa0c2c216b0>"
      ]
     },
     "execution_count": 25,
     "metadata": {},
     "output_type": "execute_result"
    }
   ],
   "source": [
    "# 实例化模型\n",
    "torch.manual_seed(24)\n",
    "\n",
    "tanh_model = net_class2(act_fun = torch.tanh, in_features=5, BN_model='pre')"
   ]
  },
  {
   "cell_type": "code",
   "execution_count": 26,
   "metadata": {},
   "outputs": [],
   "source": [
    "# 实例化Writer对象\n",
    "writer = SummaryWriter(log_dir='LR_test')\n",
    "\n",
    "# 创建空列表容器\n",
    "train_mse = []\n",
    "test_mse = []\n",
    "\n",
    "# 创建总遍历次数计数器\n",
    "num_epochs = 0"
   ]
  },
  {
   "cell_type": "code",
   "execution_count": 27,
   "metadata": {},
   "outputs": [],
   "source": [
    "# $ tensorboard --logdir=\"LR_test\"\n",
    "# 打开服务"
   ]
  },
  {
   "cell_type": "code",
   "execution_count": 28,
   "metadata": {},
   "outputs": [
    {
     "name": "stdin",
     "output_type": "stream",
     "text": [
      "Do you want to continue the iteration? [y/n] y\n",
      "NUmber of epochs: 30\n",
      "Updata learning rate: 0.03\n",
      "Do you want to continue the iteration? [y/n] y\n",
      "NUmber of epochs: 30\n",
      "Updata learning rate: 0.01\n",
      "Do you want to continue the iteration? [y/n] n\n"
     ]
    }
   ],
   "source": [
    "# 创建可以捕捉手动输入数据的模型训练流程\n",
    "while input(\"Do you want to continue the iteration? [y/n]\") == \"y\":\n",
    "    epochs = int(input(\"NUmber of epochs:\"))\n",
    "    lr = float(input(\"Updata learning rate:\"))\n",
    "    train_l, test_l = fit_rec(net=tanh_model,\n",
    "                              criterion=nn.MSELoss(),\n",
    "                              optimizer=optim.SGD(tanh_model.parameters(),lr = lr),\n",
    "                              train_data = train_loader,\n",
    "                              test_data = test_loader,\n",
    "                              epochs = epochs,\n",
    "                              cla = False,\n",
    "                              eva = mse_cal)\n",
    "    train_mses.extend(train_l)\n",
    "    test_mses.extend(test_l)\n",
    "    \n",
    "    for i,j in zip(list(range(num_epochs, num_epochs+epochs)),train_mse[num_epochs:num_epochs+epochs]):\n",
    "        writer.add_scalar('train_mse', j, i)\n",
    "    for i,j in zip(list(range(num_epochs, num_epochs+epochs)),test_mse[num_epochs:num_epochs+epochs]):\n",
    "        writer.add_scalar('test_mse', j, i)\n",
    "    num_epochs += epochs"
   ]
  },
  {
   "cell_type": "markdown",
   "metadata": {},
   "source": [
    "### 学习率调度\n",
    "- 幂调度 lr -> lr/2 -> lr/3\n",
    "- 指数调度 lr/10^1 -> lr/10^2\n",
    "- 分段恒定调度 1-10:lr  ->  10-20:lr/100\n",
    "- 性能调度： 每个一点时间观察误差变化情况\n",
    "- 周期调度：允许在周期内先递增后递减"
   ]
  },
  {
   "cell_type": "code",
   "execution_count": 29,
   "metadata": {},
   "outputs": [],
   "source": [
    "from torch.optim import lr_scheduler #学习率调度模块"
   ]
  },
  {
   "cell_type": "markdown",
   "metadata": {},
   "source": [
    "## 一、优化器与状态字典（state_dict）"
   ]
  },
  {
   "cell_type": "code",
   "execution_count": 31,
   "metadata": {},
   "outputs": [
    {
     "data": {
      "text/plain": [
       "<torch._C.Generator at 0x7fa0c2c216b0>"
      ]
     },
     "execution_count": 31,
     "metadata": {},
     "output_type": "execute_result"
    }
   ],
   "source": [
    "torch.manual_seed(420)\n",
    "\n",
    "features,labels = tensorGenReg(w=[2,-1,3,1,2],bias=False,deg=2)\n",
    "\n",
    "train_loader,test_loader = split_loader(features,labels,batch_size=50)"
   ]
  },
  {
   "cell_type": "code",
   "execution_count": 32,
   "metadata": {},
   "outputs": [
    {
     "data": {
      "text/plain": [
       "<torch._C.Generator at 0x7fa0c2c216b0>"
      ]
     },
     "execution_count": 32,
     "metadata": {},
     "output_type": "execute_result"
    }
   ],
   "source": [
    "torch.manual_seed(24)\n",
    "\n",
    "tanh_model1 = net_class2(act_fun=torch.tanh, in_features=5, BN_model='pre')"
   ]
  },
  {
   "cell_type": "code",
   "execution_count": 33,
   "metadata": {},
   "outputs": [],
   "source": [
    "# 创建优化器\n",
    "optimizer = torch.optim.SGD(tanh_model1.parameters(),lr=0.05)"
   ]
  },
  {
   "cell_type": "markdown",
   "metadata": {},
   "source": [
    "`.state_dict()`方法查看优化器状态"
   ]
  },
  {
   "cell_type": "code",
   "execution_count": 34,
   "metadata": {},
   "outputs": [
    {
     "data": {
      "text/plain": [
       "{'state': {},\n",
       " 'param_groups': [{'lr': 0.05,\n",
       "   'momentum': 0,\n",
       "   'dampening': 0,\n",
       "   'weight_decay': 0,\n",
       "   'nesterov': False,\n",
       "   'params': [0, 1, 2, 3, 4, 5, 6, 7, 8, 9]}]}"
      ]
     },
     "execution_count": 34,
     "metadata": {},
     "output_type": "execute_result"
    }
   ],
   "source": [
    "optimizer.state_dict()"
   ]
  },
  {
   "cell_type": "code",
   "execution_count": 43,
   "metadata": {},
   "outputs": [
    {
     "data": {
      "text/plain": [
       "[{'lr': 0.05,\n",
       "  'momentum': 0,\n",
       "  'dampening': 0,\n",
       "  'weight_decay': 0,\n",
       "  'nesterov': False,\n",
       "  'params': [0, 1, 2, 3, 4, 5, 6, 7, 8, 9]}]"
      ]
     },
     "execution_count": 43,
     "metadata": {},
     "output_type": "execute_result"
    }
   ],
   "source": [
    "optimizer.state_dict()['param_groups']"
   ]
  },
  {
   "cell_type": "code",
   "execution_count": 36,
   "metadata": {},
   "outputs": [
    {
     "data": {
      "text/plain": [
       "{'lr': 0.05,\n",
       " 'momentum': 0,\n",
       " 'dampening': 0,\n",
       " 'weight_decay': 0,\n",
       " 'nesterov': False,\n",
       " 'params': [0, 1, 2, 3, 4, 5, 6, 7, 8, 9]}"
      ]
     },
     "execution_count": 36,
     "metadata": {},
     "output_type": "execute_result"
    }
   ],
   "source": [
    "optimizer.state_dict()['param_groups'][0]"
   ]
  },
  {
   "cell_type": "code",
   "execution_count": 37,
   "metadata": {},
   "outputs": [
    {
     "data": {
      "text/plain": [
       "0.05"
      ]
     },
     "execution_count": 37,
     "metadata": {},
     "output_type": "execute_result"
    }
   ],
   "source": [
    "optimizer.state_dict()['param_groups'][0]['lr']"
   ]
  },
  {
   "cell_type": "code",
   "execution_count": 39,
   "metadata": {},
   "outputs": [
    {
     "data": {
      "text/plain": [
       "10"
      ]
     },
     "execution_count": 39,
     "metadata": {},
     "output_type": "execute_result"
    }
   ],
   "source": [
    "# 验证 待训练参数个数\n",
    "len(list(tanh_model1.parameters()))"
   ]
  },
  {
   "cell_type": "code",
   "execution_count": 41,
   "metadata": {},
   "outputs": [
    {
     "data": {
      "text/plain": [
       "{'state': {},\n",
       " 'param_groups': [{'lr': 0.05,\n",
       "   'momentum': 0,\n",
       "   'dampening': 0,\n",
       "   'weight_decay': 0,\n",
       "   'nesterov': False,\n",
       "   'params': [0, 1, 2, 3, 4, 5, 6, 7, 8, 9, 10, 11, 12, 13]}]}"
      ]
     },
     "execution_count": 41,
     "metadata": {},
     "output_type": "execute_result"
    }
   ],
   "source": [
    "tanh_model2 = net_class3(act_fun=torch.tanh, in_features=5,BN_model='pre')\n",
    "optimizer1 = torch.optim.SGD(tanh_model2.parameters(),lr=0.05)\n",
    "optimizer1.state_dict()"
   ]
  },
  {
   "cell_type": "code",
   "execution_count": 42,
   "metadata": {},
   "outputs": [
    {
     "data": {
      "text/plain": [
       "14"
      ]
     },
     "execution_count": 42,
     "metadata": {},
     "output_type": "execute_result"
    }
   ],
   "source": [
    "len(list(tanh_model2.parameters()))"
   ]
  },
  {
   "cell_type": "markdown",
   "metadata": {},
   "source": [
    "## 模型本地保存与读取方法\n",
    "- `state_dict`包含了模型当前全部的参数信息，保存`state_dict`相当于保存了模型\n",
    "- 借助`state_dict`将模型或者优化器保存至本地"
   ]
  },
  {
   "cell_type": "code",
   "execution_count": 45,
   "metadata": {
    "collapsed": true,
    "jupyter": {
     "outputs_hidden": true
    }
   },
   "outputs": [
    {
     "data": {
      "text/plain": [
       "OrderedDict([('linear1.weight',\n",
       "              tensor([[ 0.2365, -0.1118, -0.3801,  0.0275,  0.4168],\n",
       "                      [-0.1995, -0.1456,  0.3497, -0.0622, -0.1708],\n",
       "                      [-0.0901,  0.0164, -0.3643, -0.1278,  0.4336],\n",
       "                      [-0.0959,  0.4073, -0.1746, -0.1799, -0.1333]])),\n",
       "             ('linear1.bias', tensor([-0.3999, -0.2694,  0.2703, -0.3355])),\n",
       "             ('normalize1.weight', tensor([1., 1., 1., 1.])),\n",
       "             ('normalize1.bias', tensor([0., 0., 0., 0.])),\n",
       "             ('normalize1.running_mean', tensor([0., 0., 0., 0.])),\n",
       "             ('normalize1.running_var', tensor([1., 1., 1., 1.])),\n",
       "             ('normalize1.num_batches_tracked', tensor(0)),\n",
       "             ('linear2.weight',\n",
       "              tensor([[ 0.1708,  0.4704, -0.0635,  0.2187],\n",
       "                      [ 0.2336, -0.3569, -0.1928, -0.1566],\n",
       "                      [ 0.4825, -0.4463,  0.3027,  0.4696],\n",
       "                      [ 0.3953,  0.2131,  0.2226, -0.0267]])),\n",
       "             ('linear2.bias', tensor([ 0.2516,  0.4558, -0.1608,  0.4831])),\n",
       "             ('normalize2.weight', tensor([1., 1., 1., 1.])),\n",
       "             ('normalize2.bias', tensor([0., 0., 0., 0.])),\n",
       "             ('normalize2.running_mean', tensor([0., 0., 0., 0.])),\n",
       "             ('normalize2.running_var', tensor([1., 1., 1., 1.])),\n",
       "             ('normalize2.num_batches_tracked', tensor(0)),\n",
       "             ('linear3.weight',\n",
       "              tensor([[ 0.0795, -0.3507, -0.3589,  0.1764]])),\n",
       "             ('linear3.bias', tensor([-0.0705]))])"
      ]
     },
     "execution_count": 45,
     "metadata": {},
     "output_type": "execute_result"
    }
   ],
   "source": [
    "# 将存有模型全部参数信息的字典对象赋值给某个对象\n",
    "t1 = tanh_model1.state_dict()\n",
    "t1"
   ]
  },
  {
   "cell_type": "code",
   "execution_count": 46,
   "metadata": {},
   "outputs": [],
   "source": [
    "# 通过 torch.save 来将数据保存至本地，后缀一般为 .pt 或 .pth\n",
    "torch.save(tanh_model1.state_dict(),'tanh1.pt')"
   ]
  },
  {
   "cell_type": "markdown",
   "metadata": {},
   "source": [
    "训练模型：\n",
    "借助损失函数和反向传播机制进行梯度求解，然后利用优化器根据梯度值去更新各线性层参数"
   ]
  },
  {
   "cell_type": "code",
   "execution_count": 47,
   "metadata": {},
   "outputs": [],
   "source": [
    "criterion = nn.MSELoss()"
   ]
  },
  {
   "cell_type": "code",
   "execution_count": 50,
   "metadata": {
    "collapsed": true,
    "jupyter": {
     "outputs_hidden": true
    }
   },
   "outputs": [
    {
     "data": {
      "text/plain": [
       "<bound method SGD.step of SGD (\n",
       "Parameter Group 0\n",
       "    dampening: 0\n",
       "    lr: 0.05\n",
       "    momentum: 0\n",
       "    nesterov: False\n",
       "    weight_decay: 0\n",
       ")>"
      ]
     },
     "execution_count": 50,
     "metadata": {},
     "output_type": "execute_result"
    },
    {
     "data": {
      "text/plain": [
       "<bound method SGD.step of SGD (\n",
       "Parameter Group 0\n",
       "    dampening: 0\n",
       "    lr: 0.05\n",
       "    momentum: 0\n",
       "    nesterov: False\n",
       "    weight_decay: 0\n",
       ")>"
      ]
     },
     "execution_count": 50,
     "metadata": {},
     "output_type": "execute_result"
    },
    {
     "data": {
      "text/plain": [
       "<bound method SGD.step of SGD (\n",
       "Parameter Group 0\n",
       "    dampening: 0\n",
       "    lr: 0.05\n",
       "    momentum: 0\n",
       "    nesterov: False\n",
       "    weight_decay: 0\n",
       ")>"
      ]
     },
     "execution_count": 50,
     "metadata": {},
     "output_type": "execute_result"
    },
    {
     "data": {
      "text/plain": [
       "<bound method SGD.step of SGD (\n",
       "Parameter Group 0\n",
       "    dampening: 0\n",
       "    lr: 0.05\n",
       "    momentum: 0\n",
       "    nesterov: False\n",
       "    weight_decay: 0\n",
       ")>"
      ]
     },
     "execution_count": 50,
     "metadata": {},
     "output_type": "execute_result"
    },
    {
     "data": {
      "text/plain": [
       "<bound method SGD.step of SGD (\n",
       "Parameter Group 0\n",
       "    dampening: 0\n",
       "    lr: 0.05\n",
       "    momentum: 0\n",
       "    nesterov: False\n",
       "    weight_decay: 0\n",
       ")>"
      ]
     },
     "execution_count": 50,
     "metadata": {},
     "output_type": "execute_result"
    },
    {
     "data": {
      "text/plain": [
       "<bound method SGD.step of SGD (\n",
       "Parameter Group 0\n",
       "    dampening: 0\n",
       "    lr: 0.05\n",
       "    momentum: 0\n",
       "    nesterov: False\n",
       "    weight_decay: 0\n",
       ")>"
      ]
     },
     "execution_count": 50,
     "metadata": {},
     "output_type": "execute_result"
    },
    {
     "data": {
      "text/plain": [
       "<bound method SGD.step of SGD (\n",
       "Parameter Group 0\n",
       "    dampening: 0\n",
       "    lr: 0.05\n",
       "    momentum: 0\n",
       "    nesterov: False\n",
       "    weight_decay: 0\n",
       ")>"
      ]
     },
     "execution_count": 50,
     "metadata": {},
     "output_type": "execute_result"
    },
    {
     "data": {
      "text/plain": [
       "<bound method SGD.step of SGD (\n",
       "Parameter Group 0\n",
       "    dampening: 0\n",
       "    lr: 0.05\n",
       "    momentum: 0\n",
       "    nesterov: False\n",
       "    weight_decay: 0\n",
       ")>"
      ]
     },
     "execution_count": 50,
     "metadata": {},
     "output_type": "execute_result"
    },
    {
     "data": {
      "text/plain": [
       "<bound method SGD.step of SGD (\n",
       "Parameter Group 0\n",
       "    dampening: 0\n",
       "    lr: 0.05\n",
       "    momentum: 0\n",
       "    nesterov: False\n",
       "    weight_decay: 0\n",
       ")>"
      ]
     },
     "execution_count": 50,
     "metadata": {},
     "output_type": "execute_result"
    },
    {
     "data": {
      "text/plain": [
       "<bound method SGD.step of SGD (\n",
       "Parameter Group 0\n",
       "    dampening: 0\n",
       "    lr: 0.05\n",
       "    momentum: 0\n",
       "    nesterov: False\n",
       "    weight_decay: 0\n",
       ")>"
      ]
     },
     "execution_count": 50,
     "metadata": {},
     "output_type": "execute_result"
    },
    {
     "data": {
      "text/plain": [
       "<bound method SGD.step of SGD (\n",
       "Parameter Group 0\n",
       "    dampening: 0\n",
       "    lr: 0.05\n",
       "    momentum: 0\n",
       "    nesterov: False\n",
       "    weight_decay: 0\n",
       ")>"
      ]
     },
     "execution_count": 50,
     "metadata": {},
     "output_type": "execute_result"
    },
    {
     "data": {
      "text/plain": [
       "<bound method SGD.step of SGD (\n",
       "Parameter Group 0\n",
       "    dampening: 0\n",
       "    lr: 0.05\n",
       "    momentum: 0\n",
       "    nesterov: False\n",
       "    weight_decay: 0\n",
       ")>"
      ]
     },
     "execution_count": 50,
     "metadata": {},
     "output_type": "execute_result"
    },
    {
     "data": {
      "text/plain": [
       "<bound method SGD.step of SGD (\n",
       "Parameter Group 0\n",
       "    dampening: 0\n",
       "    lr: 0.05\n",
       "    momentum: 0\n",
       "    nesterov: False\n",
       "    weight_decay: 0\n",
       ")>"
      ]
     },
     "execution_count": 50,
     "metadata": {},
     "output_type": "execute_result"
    },
    {
     "data": {
      "text/plain": [
       "<bound method SGD.step of SGD (\n",
       "Parameter Group 0\n",
       "    dampening: 0\n",
       "    lr: 0.05\n",
       "    momentum: 0\n",
       "    nesterov: False\n",
       "    weight_decay: 0\n",
       ")>"
      ]
     },
     "execution_count": 50,
     "metadata": {},
     "output_type": "execute_result"
    }
   ],
   "source": [
    "for X,y in train_loader:\n",
    "    yhat = tanh_model1.forward(X)\n",
    "    loss = criterion(yhat,y)\n",
    "    optimizer.zero_grad()\n",
    "    loss.backward()\n",
    "    optimizer.step"
   ]
  },
  {
   "cell_type": "code",
   "execution_count": 51,
   "metadata": {
    "collapsed": true,
    "jupyter": {
     "outputs_hidden": true
    }
   },
   "outputs": [
    {
     "data": {
      "text/plain": [
       "OrderedDict([('linear1.weight',\n",
       "              tensor([[ 0.2365, -0.1118, -0.3801,  0.0275,  0.4168],\n",
       "                      [-0.1995, -0.1456,  0.3497, -0.0622, -0.1708],\n",
       "                      [-0.0901,  0.0164, -0.3643, -0.1278,  0.4336],\n",
       "                      [-0.0959,  0.4073, -0.1746, -0.1799, -0.1333]])),\n",
       "             ('linear1.bias', tensor([-0.3999, -0.2694,  0.2703, -0.3355])),\n",
       "             ('normalize1.weight', tensor([1., 1., 1., 1.])),\n",
       "             ('normalize1.bias', tensor([0., 0., 0., 0.])),\n",
       "             ('normalize1.running_mean',\n",
       "              tensor([-0.2934, -0.2124,  0.2082, -0.2750])),\n",
       "             ('normalize1.running_var',\n",
       "              tensor([0.5004, 0.3884, 0.4891, 0.4084])),\n",
       "             ('normalize1.num_batches_tracked', tensor(14)),\n",
       "             ('linear2.weight',\n",
       "              tensor([[ 0.1708,  0.4704, -0.0635,  0.2187],\n",
       "                      [ 0.2336, -0.3569, -0.1928, -0.1566],\n",
       "                      [ 0.4825, -0.4463,  0.3027,  0.4696],\n",
       "                      [ 0.3953,  0.2131,  0.2226, -0.0267]])),\n",
       "             ('linear2.bias', tensor([ 0.2516,  0.4558, -0.1608,  0.4831])),\n",
       "             ('normalize2.weight', tensor([1., 1., 1., 1.])),\n",
       "             ('normalize2.bias', tensor([0., 0., 0., 0.])),\n",
       "             ('normalize2.running_mean',\n",
       "              tensor([ 0.1958,  0.3493, -0.1334,  0.3693])),\n",
       "             ('normalize2.running_var',\n",
       "              tensor([0.2660, 0.2988, 0.7362, 0.2886])),\n",
       "             ('normalize2.num_batches_tracked', tensor(14)),\n",
       "             ('linear3.weight',\n",
       "              tensor([[ 0.0795, -0.3507, -0.3589,  0.1764]])),\n",
       "             ('linear3.bias', tensor([-0.0705]))])"
      ]
     },
     "execution_count": 51,
     "metadata": {},
     "output_type": "execute_result"
    }
   ],
   "source": [
    "tanh_model1.state_dict()"
   ]
  },
  {
   "cell_type": "markdown",
   "metadata": {},
   "source": [
    "## 二、LambdaLR 基本使用方法\n",
    "学习率调度类，该类实例化的对象：学习率调度器"
   ]
  },
  {
   "cell_type": "code",
   "execution_count": 66,
   "metadata": {},
   "outputs": [],
   "source": [
    "lr_lambda = lambda epoch:0.5 ** epoch"
   ]
  },
  {
   "cell_type": "code",
   "execution_count": 67,
   "metadata": {},
   "outputs": [
    {
     "data": {
      "text/plain": [
       "1.0"
      ]
     },
     "execution_count": 67,
     "metadata": {},
     "output_type": "execute_result"
    }
   ],
   "source": [
    "# 第一轮迭代时\n",
    "lr_lambda(0)"
   ]
  },
  {
   "cell_type": "code",
   "execution_count": 68,
   "metadata": {},
   "outputs": [
    {
     "data": {
      "text/plain": [
       "0.5"
      ]
     },
     "execution_count": 68,
     "metadata": {},
     "output_type": "execute_result"
    }
   ],
   "source": [
    "# 第二轮迭代时\n",
    "lr_lambda(1)"
   ]
  },
  {
   "cell_type": "markdown",
   "metadata": {},
   "source": [
    "- $lr0 = 0.5^0 * 0.05 = 1 * 0.05 = 0.05$ `# epoch=0 epoch++`\n",
    "- $lr1 = 0.5^1 * 0.05 = 0.5 * 0.05 = 0.025$ `# epoch=1 epoch++`"
   ]
  },
  {
   "cell_type": "code",
   "execution_count": 69,
   "metadata": {},
   "outputs": [
    {
     "data": {
      "text/plain": [
       "<torch._C.Generator at 0x7fa0c2c216b0>"
      ]
     },
     "execution_count": 69,
     "metadata": {},
     "output_type": "execute_result"
    }
   ],
   "source": [
    "torch.manual_seed(24)\n",
    "\n",
    "tanh_model1 = net_class2(act_fun=torch.tanh, in_features=5, BN_model='pre')"
   ]
  },
  {
   "cell_type": "code",
   "execution_count": 70,
   "metadata": {},
   "outputs": [],
   "source": [
    "optimizer = torch.optim.SGD(tanh_model1.parameters(),lr=0.05)"
   ]
  },
  {
   "cell_type": "code",
   "execution_count": 71,
   "metadata": {},
   "outputs": [
    {
     "data": {
      "text/plain": [
       "{'state': {},\n",
       " 'param_groups': [{'lr': 0.05,\n",
       "   'momentum': 0,\n",
       "   'dampening': 0,\n",
       "   'weight_decay': 0,\n",
       "   'nesterov': False,\n",
       "   'params': [0, 1, 2, 3, 4, 5, 6, 7, 8, 9]}]}"
      ]
     },
     "execution_count": 71,
     "metadata": {},
     "output_type": "execute_result"
    }
   ],
   "source": [
    "optimizer.state_dict()"
   ]
  },
  {
   "cell_type": "code",
   "execution_count": 72,
   "metadata": {},
   "outputs": [],
   "source": [
    "# 创建学习率调度器\n",
    "scheduler = lr_scheduler.LambdaLR(optimizer,lr_lambda)"
   ]
  },
  {
   "cell_type": "code",
   "execution_count": 73,
   "metadata": {},
   "outputs": [
    {
     "data": {
      "text/plain": [
       "{'state': {},\n",
       " 'param_groups': [{'lr': 0.05,\n",
       "   'momentum': 0,\n",
       "   'dampening': 0,\n",
       "   'weight_decay': 0,\n",
       "   'nesterov': False,\n",
       "   'initial_lr': 0.05,\n",
       "   'params': [0, 1, 2, 3, 4, 5, 6, 7, 8, 9]}]}"
      ]
     },
     "execution_count": 73,
     "metadata": {},
     "output_type": "execute_result"
    }
   ],
   "source": [
    "optimizer.state_dict()"
   ]
  },
  {
   "cell_type": "code",
   "execution_count": 74,
   "metadata": {},
   "outputs": [],
   "source": [
    "for X,y in train_loader:\n",
    "    yhat = tanh_model1.forward(X)\n",
    "    loss = criterion(yhat,y)\n",
    "    optimizer.zero_grad()\n",
    "    loss.backward()\n",
    "    optimizer.step()\n",
    "scheduler.step() # 令匿名函数的自变量+1然后令匿名函数的输出结果与 初始lr相乘，把计算结果传给优化器，作为下一次优化器计算时的学习率"
   ]
  },
  {
   "cell_type": "code",
   "execution_count": 75,
   "metadata": {},
   "outputs": [],
   "source": [
    "optimizer.zero_grad()\n",
    "optimizer.step()\n",
    "scheduler.step()"
   ]
  },
  {
   "cell_type": "code",
   "execution_count": 76,
   "metadata": {},
   "outputs": [
    {
     "data": {
      "text/plain": [
       "{'state': {},\n",
       " 'param_groups': [{'lr': 0.0125,\n",
       "   'momentum': 0,\n",
       "   'dampening': 0,\n",
       "   'weight_decay': 0,\n",
       "   'nesterov': False,\n",
       "   'initial_lr': 0.05,\n",
       "   'params': [0, 1, 2, 3, 4, 5, 6, 7, 8, 9]}]}"
      ]
     },
     "execution_count": 76,
     "metadata": {},
     "output_type": "execute_result"
    }
   ],
   "source": [
    "optimizer.state_dict()"
   ]
  },
  {
   "cell_type": "code",
   "execution_count": 77,
   "metadata": {},
   "outputs": [
    {
     "name": "stderr",
     "output_type": "stream",
     "text": [
      "/Users/feishuoren/anaconda3/lib/python3.8/site-packages/torch/optim/lr_scheduler.py:216: UserWarning: Please also save or load the state of the optimizer when saving or loading the scheduler.\n",
      "  warnings.warn(SAVE_STATE_WARNING, UserWarning)\n"
     ]
    },
    {
     "data": {
      "text/plain": [
       "{'base_lrs': [0.05],\n",
       " 'last_epoch': 2,\n",
       " '_step_count': 3,\n",
       " 'verbose': False,\n",
       " '_get_lr_called_within_step': False,\n",
       " '_last_lr': [0.0125],\n",
       " 'lr_lambdas': [None]}"
      ]
     },
     "execution_count": 77,
     "metadata": {},
     "output_type": "execute_result"
    }
   ],
   "source": [
    "ss = scheduler.state_dict()\n",
    "ss"
   ]
  },
  {
   "cell_type": "markdown",
   "metadata": {},
   "source": [
    "## 三、LambdaLR 学习率调度实验"
   ]
  },
  {
   "cell_type": "code",
   "execution_count": 89,
   "metadata": {},
   "outputs": [],
   "source": [
    "def fit_rec_sc(net,criterion,optimizer,train_data,test_data,scheduler,epochs = 3,cla = False,eva = mse_cal):\n",
    "    \"\"\"加入学习率调度后的模型训练函数(记录每一次遍历后模型评估指标)\n",
    "    \n",
    "    param net: 待训练的模型\n",
    "    param citerion: 损失函数\n",
    "    param optimizer: 优化算法\n",
    "    param train_data: 训练数据\n",
    "    param test_data: 测试数据\n",
    "    param scheduler: 学习率调度器\n",
    "    param cla: 是否是分类问题\n",
    "    param epochs: 遍历数据次数\n",
    "    param eva: 模型评估结果\n",
    "    \n",
    "    return : 模型评估结果\n",
    "    \n",
    "    \"\"\"\n",
    "    \n",
    "    train_l = []\n",
    "    test_l = []\n",
    "    \n",
    "    for epoch in range(epochs):\n",
    "        net.train()\n",
    "        for X,y in train_data:\n",
    "            if cla == True:\n",
    "                y = y.flatten().long() # 如果是分类问题，要对y进行整数转化\n",
    "            yhat = net.forward(X)\n",
    "            loss = criterion(yhat,y)\n",
    "            optimizer.zero_grad()\n",
    "            loss.backward()\n",
    "            optimizer.step()\n",
    "        scheduler.step()\n",
    "        net.eval()\n",
    "        train_l.append(eva(train_data, net).detach())\n",
    "        test_l.append(eva(test_data, net).detach())\n",
    "        \n",
    "    return train_l, test_l"
   ]
  },
  {
   "cell_type": "code",
   "execution_count": 79,
   "metadata": {},
   "outputs": [],
   "source": [
    "lr_lambda = lambda epoch: 0.95 ** epoch # 每迭代一轮，学习率衰减5%"
   ]
  },
  {
   "cell_type": "code",
   "execution_count": 80,
   "metadata": {},
   "outputs": [
    {
     "data": {
      "text/plain": [
       "1.0"
      ]
     },
     "execution_count": 80,
     "metadata": {},
     "output_type": "execute_result"
    }
   ],
   "source": [
    "# 第一轮迭代\n",
    "lr_lambda(0)"
   ]
  },
  {
   "cell_type": "code",
   "execution_count": 81,
   "metadata": {},
   "outputs": [
    {
     "data": {
      "text/plain": [
       "0.95"
      ]
     },
     "execution_count": 81,
     "metadata": {},
     "output_type": "execute_result"
    }
   ],
   "source": [
    "# 第一轮迭代\n",
    "lr_lambda(1)"
   ]
  },
  {
   "cell_type": "code",
   "execution_count": 82,
   "metadata": {},
   "outputs": [
    {
     "data": {
      "text/plain": [
       "0.0059205292203339975"
      ]
     },
     "execution_count": 82,
     "metadata": {},
     "output_type": "execute_result"
    }
   ],
   "source": [
    "lr_lambda(100)"
   ]
  },
  {
   "cell_type": "code",
   "execution_count": 128,
   "metadata": {},
   "outputs": [
    {
     "data": {
      "text/plain": [
       "<torch._C.Generator at 0x7fa0c2c216b0>"
      ]
     },
     "execution_count": 128,
     "metadata": {},
     "output_type": "execute_result"
    }
   ],
   "source": [
    "torch.manual_seed(24)\n",
    "\n",
    "tanh_model1 = net_class2(act_fun = torch.tanh, in_features = 5,BN_model = 'pre')"
   ]
  },
  {
   "cell_type": "code",
   "execution_count": 129,
   "metadata": {},
   "outputs": [],
   "source": [
    "# 创建优化器\n",
    "optimizer = torch.optim.SGD(tanh_model1.parameters(),lr=0.05)"
   ]
  },
  {
   "cell_type": "code",
   "execution_count": 130,
   "metadata": {},
   "outputs": [],
   "source": [
    "# 创建学习率调度器\n",
    "scheduler = lr_scheduler.LambdaLR(optimizer,lr_lambda)"
   ]
  },
  {
   "cell_type": "markdown",
   "metadata": {},
   "source": [
    "### 3. 模型训练与结果比较"
   ]
  },
  {
   "cell_type": "code",
   "execution_count": 131,
   "metadata": {},
   "outputs": [],
   "source": [
    "# 进行模型训练\n",
    "train_l,test_l = fit_rec_sc(net = tanh_model1,\n",
    "                           criterion = nn.MSELoss(),\n",
    "                           optimizer = optimizer,\n",
    "                           train_data = train_loader,\n",
    "                           test_data = test_loader,\n",
    "                           scheduler = scheduler,\n",
    "                           epochs = 60,\n",
    "                           cla = False,\n",
    "                           eva = mse_cal)"
   ]
  },
  {
   "cell_type": "code",
   "execution_count": 132,
   "metadata": {},
   "outputs": [
    {
     "data": {
      "text/plain": [
       "[<matplotlib.lines.Line2D at 0x7fa0c61b6e80>]"
      ]
     },
     "execution_count": 132,
     "metadata": {},
     "output_type": "execute_result"
    },
    {
     "data": {
      "text/plain": [
       "Text(0.5, 0, 'epochs')"
      ]
     },
     "execution_count": 132,
     "metadata": {},
     "output_type": "execute_result"
    },
    {
     "data": {
      "text/plain": [
       "Text(0, 0.5, 'Mse')"
      ]
     },
     "execution_count": 132,
     "metadata": {},
     "output_type": "execute_result"
    },
    {
     "data": {
      "text/plain": [
       "<matplotlib.legend.Legend at 0x7fa0c6192130>"
      ]
     },
     "execution_count": 132,
     "metadata": {},
     "output_type": "execute_result"
    },
    {
     "data": {
      "image/png": "[encoded data removed]",
      "text/plain": [
       "<Figure size 432x288 with 1 Axes>"
      ]
     },
     "metadata": {
      "needs_background": "light"
     },
     "output_type": "display_data"
    }
   ],
   "source": [
    "plt.plot(train_l,label='train_mse')\n",
    "plt.xlabel('epochs')\n",
    "plt.ylabel('Mse')\n",
    "plt.legend(loc=1)"
   ]
  },
  {
   "cell_type": "code",
   "execution_count": 133,
   "metadata": {},
   "outputs": [
    {
     "data": {
      "text/plain": [
       "{'state': {},\n",
       " 'param_groups': [{'lr': 0.002303489949347597,\n",
       "   'momentum': 0,\n",
       "   'dampening': 0,\n",
       "   'weight_decay': 0,\n",
       "   'nesterov': False,\n",
       "   'initial_lr': 0.05,\n",
       "   'params': [0, 1, 2, 3, 4, 5, 6, 7, 8, 9]}]}"
      ]
     },
     "execution_count": 133,
     "metadata": {},
     "output_type": "execute_result"
    }
   ],
   "source": [
    "optimizer.state_dict()"
   ]
  },
  {
   "cell_type": "code",
   "execution_count": 134,
   "metadata": {},
   "outputs": [
    {
     "data": {
      "text/plain": [
       "0.023034899493475973"
      ]
     },
     "execution_count": 134,
     "metadata": {},
     "output_type": "execute_result"
    }
   ],
   "source": [
    "lr_lambda(60) * 0.5"
   ]
  },
  {
   "cell_type": "code",
   "execution_count": 135,
   "metadata": {},
   "outputs": [
    {
     "data": {
      "text/plain": [
       "<torch._C.Generator at 0x7fa0c2c216b0>"
      ]
     },
     "execution_count": 135,
     "metadata": {},
     "output_type": "execute_result"
    }
   ],
   "source": [
    "torch.manual_seed(24)\n",
    "\n",
    "tanh_model1 = net_class2(act_fun = torch.tanh, in_features = 5,BN_model = 'pre')"
   ]
  },
  {
   "cell_type": "code",
   "execution_count": 136,
   "metadata": {},
   "outputs": [],
   "source": [
    "# 进行模型训练\n",
    "train_l3,test_l3 = fit_rec(net = tanh_model1,\n",
    "                           criterion = nn.MSELoss(),\n",
    "                           optimizer = optim.SGD(tanh_model1.parameters(),lr = 0.03),\n",
    "                           train_data = train_loader,\n",
    "                           test_data = test_loader,\n",
    "                           epochs = 60,\n",
    "                           cla = False,\n",
    "                           eva = mse_cal)"
   ]
  },
  {
   "cell_type": "code",
   "execution_count": 137,
   "metadata": {},
   "outputs": [
    {
     "data": {
      "text/plain": [
       "[<matplotlib.lines.Line2D at 0x7fa0c650dd90>]"
      ]
     },
     "execution_count": 137,
     "metadata": {},
     "output_type": "execute_result"
    },
    {
     "data": {
      "text/plain": [
       "[<matplotlib.lines.Line2D at 0x7fa0c651c220>]"
      ]
     },
     "execution_count": 137,
     "metadata": {},
     "output_type": "execute_result"
    },
    {
     "data": {
      "text/plain": [
       "Text(0.5, 0, 'epochs')"
      ]
     },
     "execution_count": 137,
     "metadata": {},
     "output_type": "execute_result"
    },
    {
     "data": {
      "text/plain": [
       "Text(0, 0.5, 'Mse')"
      ]
     },
     "execution_count": 137,
     "metadata": {},
     "output_type": "execute_result"
    },
    {
     "data": {
      "text/plain": [
       "<matplotlib.legend.Legend at 0x7fa0c651c4f0>"
      ]
     },
     "execution_count": 137,
     "metadata": {},
     "output_type": "execute_result"
    },
    {
     "data": {
      "image/png": "[encoded data removed]",
      "text/plain": [
       "<Figure size 432x288 with 1 Axes>"
      ]
     },
     "metadata": {
      "needs_background": "light"
     },
     "output_type": "display_data"
    }
   ],
   "source": [
    "plt.plot(train_l,label='train_l')\n",
    "plt.plot(train_l3,label='train_l3')\n",
    "plt.xlabel('epochs')\n",
    "plt.ylabel('Mse')\n",
    "plt.legend(loc=1)"
   ]
  },
  {
   "cell_type": "code",
   "execution_count": 138,
   "metadata": {},
   "outputs": [],
   "source": [
    "# 相比较学习率为0.03的模型，加入学习率调度策略的模型，模型收敛效果更好、迭代更加平稳，且收敛速度较快"
   ]
  },
  {
   "cell_type": "code",
   "execution_count": 139,
   "metadata": {},
   "outputs": [
    {
     "data": {
      "text/plain": [
       "<torch._C.Generator at 0x7fa0c2c216b0>"
      ]
     },
     "execution_count": 139,
     "metadata": {},
     "output_type": "execute_result"
    }
   ],
   "source": [
    "torch.manual_seed(24)\n",
    "\n",
    "tanh_model1 = net_class2(act_fun = torch.tanh, in_features = 5,BN_model = 'pre')"
   ]
  },
  {
   "cell_type": "code",
   "execution_count": 140,
   "metadata": {},
   "outputs": [],
   "source": [
    "# 进行模型训练\n",
    "train_l1,test_l1 = fit_rec(net = tanh_model1,\n",
    "                           criterion = nn.MSELoss(),\n",
    "                           optimizer = optim.SGD(tanh_model1.parameters(),lr = 0.01),\n",
    "                           train_data = train_loader,\n",
    "                           test_data = test_loader,\n",
    "                           epochs = 60,\n",
    "                           cla = False,\n",
    "                           eva = mse_cal)"
   ]
  },
  {
   "cell_type": "code",
   "execution_count": 141,
   "metadata": {},
   "outputs": [
    {
     "data": {
      "text/plain": [
       "[<matplotlib.lines.Line2D at 0x7fa0c65790d0>]"
      ]
     },
     "execution_count": 141,
     "metadata": {},
     "output_type": "execute_result"
    },
    {
     "data": {
      "text/plain": [
       "[<matplotlib.lines.Line2D at 0x7fa0c656ee80>]"
      ]
     },
     "execution_count": 141,
     "metadata": {},
     "output_type": "execute_result"
    },
    {
     "data": {
      "text/plain": [
       "[<matplotlib.lines.Line2D at 0x7fa0c6579880>]"
      ]
     },
     "execution_count": 141,
     "metadata": {},
     "output_type": "execute_result"
    },
    {
     "data": {
      "text/plain": [
       "Text(0.5, 0, 'epochs')"
      ]
     },
     "execution_count": 141,
     "metadata": {},
     "output_type": "execute_result"
    },
    {
     "data": {
      "text/plain": [
       "Text(0, 0.5, 'Mse')"
      ]
     },
     "execution_count": 141,
     "metadata": {},
     "output_type": "execute_result"
    },
    {
     "data": {
      "text/plain": [
       "<matplotlib.legend.Legend at 0x7fa0c65799d0>"
      ]
     },
     "execution_count": 141,
     "metadata": {},
     "output_type": "execute_result"
    },
    {
     "data": {
      "image/png": "[encoded data removed]",
      "text/plain": [
       "<Figure size 432x288 with 1 Axes>"
      ]
     },
     "metadata": {
      "needs_background": "light"
     },
     "output_type": "display_data"
    }
   ],
   "source": [
    "plt.plot(train_l,label='train_l')\n",
    "plt.plot(train_l3,label='train_l3')\n",
    "plt.plot(train_l1,label='train_l1')\n",
    "plt.xlabel('epochs')\n",
    "plt.ylabel('Mse')\n",
    "plt.legend(loc=1)"
   ]
  }
 ],
 "metadata": {
  "kernelspec": {
   "display_name": "Python 3",
   "language": "python",
   "name": "python3"
  },
  "language_info": {
   "codemirror_mode": {
    "name": "ipython",
    "version": 3
   },
   "file_extension": ".py",
   "mimetype": "text/x-python",
   "name": "python",
   "nbconvert_exporter": "python",
   "pygments_lexer": "ipython3",
   "version": "3.8.3"
  }
 },
 "nbformat": 4,
 "nbformat_minor": 4
}
