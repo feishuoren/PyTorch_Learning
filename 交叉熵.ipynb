{
 "cells": [
  {
   "cell_type": "code",
   "execution_count": 3,
   "metadata": {},
   "outputs": [],
   "source": [
    "import torch\n",
    "from torch.nn import MSELoss # class"
   ]
  },
  {
   "cell_type": "code",
   "execution_count": 4,
   "metadata": {},
   "outputs": [],
   "source": [
    "# 预测标签\n",
    "yhat = torch.randn(size=(50,),dtype=torch.float32)\n",
    "# 真实标签\n",
    "y = torch.randn(size=(50,),dtype=torch.float32)"
   ]
  },
  {
   "cell_type": "code",
   "execution_count": 5,
   "metadata": {
    "collapsed": true,
    "jupyter": {
     "outputs_hidden": true
    }
   },
   "outputs": [
    {
     "ename": "NameError",
     "evalue": "name 'criterion' is not defined",
     "output_type": "error",
     "traceback": [
      "\u001b[0;31m---------------------------------------------------------------------------\u001b[0m",
      "\u001b[0;31mNameError\u001b[0m                                 Traceback (most recent call last)",
      "\u001b[0;32m<ipython-input-5-b7b01da0b461>\u001b[0m in \u001b[0;36m<module>\u001b[0;34m\u001b[0m\n\u001b[0;32m----> 1\u001b[0;31m \u001b[0mcriterion\u001b[0m \u001b[0;34m/\u001b[0m \u001b[0mloss\u001b[0m\u001b[0;34m\u001b[0m\u001b[0;34m\u001b[0m\u001b[0m\n\u001b[0m",
      "\u001b[0;31mNameError\u001b[0m: name 'criterion' is not defined"
     ]
    }
   ],
   "source": [
    "criterion / loss"
   ]
  },
  {
   "cell_type": "code",
   "execution_count": 6,
   "metadata": {},
   "outputs": [],
   "source": [
    "criterion = MSELoss() # 实例化类\n",
    "# MSELoss(reduction = \"mean均值\"/\"sum加和\")  MSE/SSE"
   ]
  },
  {
   "cell_type": "code",
   "execution_count": 8,
   "metadata": {},
   "outputs": [],
   "source": [
    "loss = criterion(yhat,y) # shift+Tab查看函数参数"
   ]
  },
  {
   "cell_type": "code",
   "execution_count": 9,
   "metadata": {},
   "outputs": [
    {
     "data": {
      "text/plain": [
       "tensor(2.2788)"
      ]
     },
     "execution_count": 9,
     "metadata": {},
     "output_type": "execute_result"
    }
   ],
   "source": [
    "loss"
   ]
  },
  {
   "cell_type": "code",
   "execution_count": 10,
   "metadata": {},
   "outputs": [],
   "source": [
    "# 二分类交叉熵损失函数 对数函数 -lnP\n",
    "# Loss = -(y*ln(sigma)+(1-y)*ln(1-sigma))\n",
    "# y:真实标签\n",
    "# sigma: 概率 sigmoid(z)\n",
    "# z=Xw\n",
    "# 假设X,w\n",
    "# 假设总样本量 m"
   ]
  },
  {
   "cell_type": "code",
   "execution_count": 11,
   "metadata": {},
   "outputs": [],
   "source": [
    "m = 3*pow(10,3)"
   ]
  },
  {
   "cell_type": "code",
   "execution_count": 15,
   "metadata": {},
   "outputs": [],
   "source": [
    "torch.random.manual_seed(420) #固定随机数编号，使得每次初始化随机数固定\n",
    "X = torch.rand((m,4),dtype=torch.float32)\n",
    "w = torch.rand((4,1),dtype=torch.float32)\n",
    "y = torch.randint(low=0,high=2,size=(m,1),dtype=torch.float32) #分类标签有时候不接受浮点类型，这里是训练使用"
   ]
  },
  {
   "cell_type": "code",
   "execution_count": 16,
   "metadata": {},
   "outputs": [],
   "source": [
    "zhat = torch.mm(X,w)"
   ]
  },
  {
   "cell_type": "code",
   "execution_count": 17,
   "metadata": {},
   "outputs": [],
   "source": [
    "sigma = torch.sigmoid(zhat)"
   ]
  },
  {
   "cell_type": "code",
   "execution_count": 20,
   "metadata": {},
   "outputs": [
    {
     "data": {
      "text/plain": [
       "(tensor([[0.7353],\n",
       "         [0.7354],\n",
       "         [0.6014],\n",
       "         ...,\n",
       "         [0.6787],\n",
       "         [0.6354],\n",
       "         [0.7088]]),\n",
       " torch.Size([3000, 1]))"
      ]
     },
     "execution_count": 20,
     "metadata": {},
     "output_type": "execute_result"
    }
   ],
   "source": [
    "sigma,sigma.shape"
   ]
  },
  {
   "cell_type": "code",
   "execution_count": 21,
   "metadata": {},
   "outputs": [],
   "source": [
    "# Loss=-(y*ln(sigma)+(1-y)*ln(1-sigma))"
   ]
  },
  {
   "cell_type": "code",
   "execution_count": 25,
   "metadata": {},
   "outputs": [],
   "source": [
    "loss_i = -(y*torch.log(sigma) + (1-y)*torch.log(1-sigma))"
   ]
  },
  {
   "cell_type": "code",
   "execution_count": 26,
   "metadata": {},
   "outputs": [
    {
     "data": {
      "text/plain": [
       "(tensor([[0.3075],\n",
       "         [0.3073],\n",
       "         [0.9198],\n",
       "         ...,\n",
       "         [0.3876],\n",
       "         [0.4536],\n",
       "         [0.3442]]),\n",
       " torch.Size([3000, 1]))"
      ]
     },
     "execution_count": 26,
     "metadata": {},
     "output_type": "execute_result"
    }
   ],
   "source": [
    "loss_i,loss_i.shape"
   ]
  },
  {
   "cell_type": "code",
   "execution_count": 31,
   "metadata": {},
   "outputs": [],
   "source": [
    "loss = -(1/m)*torch.sum(y*torch.log(sigma) + (1-y)*torch.log(1-sigma))"
   ]
  },
  {
   "cell_type": "code",
   "execution_count": 32,
   "metadata": {},
   "outputs": [
    {
     "data": {
      "text/plain": [
       "(tensor(0.7962), torch.Size([]))"
      ]
     },
     "execution_count": 32,
     "metadata": {},
     "output_type": "execute_result"
    }
   ],
   "source": [
    "loss,loss.shape"
   ]
  },
  {
   "cell_type": "code",
   "execution_count": 33,
   "metadata": {},
   "outputs": [],
   "source": [
    "# loss = -(1/m)*sum(y*torch.log(sigma) + (1-y)*torch.log(1-sigma))\n",
    "# python中的sum和torch.sum 当样本量非常大时使用torch中的函数对于张量来说运行更快"
   ]
  },
  {
   "cell_type": "code",
   "execution_count": 41,
   "metadata": {
    "jupyter": {
     "source_hidden": true
    }
   },
   "outputs": [],
   "source": [
    "import time\n",
    "m = 3*pow(10,6)\n",
    "torch.random.manual_seed(420) \n",
    "X = torch.rand((m,4),dtype=torch.float32)\n",
    "w = torch.rand((4,1),dtype=torch.float32)\n",
    "y = torch.randint(low=0,high=2,size=(m,1),dtype=torch.float32)\n",
    "zhat = torch.mm(X,w)\n",
    "sigma = torch.sigmoid(zhat)"
   ]
  },
  {
   "cell_type": "code",
   "execution_count": 42,
   "metadata": {},
   "outputs": [
    {
     "name": "stdout",
     "output_type": "stream",
     "text": [
      "30.35755205154419\n"
     ]
    }
   ],
   "source": [
    "start = time.time() #捕获现在的时间\n",
    "loss1 = -(1/m)*sum(y*torch.log(sigma) + (1-y)*torch.log(1-sigma))\n",
    "now = time.time() #以秒计时\n",
    "print(now - start)"
   ]
  },
  {
   "cell_type": "code",
   "execution_count": 43,
   "metadata": {},
   "outputs": [
    {
     "name": "stdout",
     "output_type": "stream",
     "text": [
      "0.06929492950439453\n"
     ]
    }
   ],
   "source": [
    "start = time.time()\n",
    "loss2 = -(1/m)*torch.sum(y*torch.log(sigma) + (1-y)*torch.log(1-sigma))\n",
    "now = time.time()\n",
    "print(now - start)"
   ]
  },
  {
   "cell_type": "code",
   "execution_count": 44,
   "metadata": {},
   "outputs": [],
   "source": [
    "# torch.nn 内置两个类计算二分类交叉熵损失\n",
    "# BCEWithLOgitsLoss\n",
    "# BCELoss\n",
    "# 同样目的的两个类，输入不同，精度不同\n",
    "# BCEWithLOgitsLoss的精度更高\n",
    "# 监控准确率用BCELoss，其输入是sigma，避免重复计算"
   ]
  },
  {
   "cell_type": "code",
   "execution_count": 45,
   "metadata": {},
   "outputs": [],
   "source": [
    "import torch.nn as nn"
   ]
  },
  {
   "cell_type": "code",
   "execution_count": 46,
   "metadata": {},
   "outputs": [],
   "source": [
    "criterion = nn.BCELoss(reduction) #实例化\n",
    "loss = criterion(sigma,y)"
   ]
  },
  {
   "cell_type": "code",
   "execution_count": 47,
   "metadata": {},
   "outputs": [
    {
     "data": {
      "text/plain": [
       "tensor(0.8685)"
      ]
     },
     "execution_count": 47,
     "metadata": {},
     "output_type": "execute_result"
    }
   ],
   "source": [
    "loss"
   ]
  },
  {
   "cell_type": "code",
   "execution_count": 49,
   "metadata": {},
   "outputs": [],
   "source": [
    "criterion2 = nn.BCEWithLogitsLoss()"
   ]
  },
  {
   "cell_type": "code",
   "execution_count": 50,
   "metadata": {},
   "outputs": [],
   "source": [
    "loss = criterion2(zhat,y)"
   ]
  },
  {
   "cell_type": "code",
   "execution_count": 51,
   "metadata": {},
   "outputs": [
    {
     "data": {
      "text/plain": [
       "tensor(0.8685)"
      ]
     },
     "execution_count": 51,
     "metadata": {},
     "output_type": "execute_result"
    }
   ],
   "source": [
    "loss"
   ]
  },
  {
   "cell_type": "code",
   "execution_count": 53,
   "metadata": {},
   "outputs": [
    {
     "data": {
      "text/plain": [
       "(tensor(0.8685),\n",
       " tensor(2605616.5000),\n",
       " tensor([[1.3102],\n",
       "         [0.3155],\n",
       "         [0.4247],\n",
       "         ...,\n",
       "         [0.1727],\n",
       "         [0.1716],\n",
       "         [0.1673]]))"
      ]
     },
     "execution_count": 53,
     "metadata": {},
     "output_type": "execute_result"
    }
   ],
   "source": [
    "# none结果为矩阵，sum为加和，mean为平均\n",
    "criterion = nn.BCELoss(reduction=\"mean\") #实例化\n",
    "loss1 = criterion(sigma,y)\n",
    "criterion2 = nn.BCEWithLogitsLoss(reduction=\"sum\")\n",
    "loss2 = criterion2(zhat,y)\n",
    "criterion3 = nn.BCEWithLogitsLoss(reduction=\"none\")\n",
    "loss3 = criterion3(zhat,y)\n",
    "loss1,loss2,loss3"
   ]
  },
  {
   "cell_type": "code",
   "execution_count": 54,
   "metadata": {},
   "outputs": [],
   "source": [
    "# 多分类交叉熵"
   ]
  },
  {
   "cell_type": "code",
   "execution_count": 55,
   "metadata": {},
   "outputs": [],
   "source": [
    "import torch\n",
    "import torch.nn as nn"
   ]
  },
  {
   "cell_type": "code",
   "execution_count": 56,
   "metadata": {},
   "outputs": [],
   "source": [
    "m = 3*pow(10,3)"
   ]
  },
  {
   "cell_type": "code",
   "execution_count": 67,
   "metadata": {},
   "outputs": [],
   "source": [
    "torch.random.manual_seed(420)\n",
    "X = torch.rand((m,4),dtype=torch.float32)\n",
    "w = torch.rand((4,3),dtype=torch.float32)\n",
    "y = torch.randint(low=0,high=3,size=(m,),dtype=torch.float32)"
   ]
  },
  {
   "cell_type": "code",
   "execution_count": 58,
   "metadata": {},
   "outputs": [],
   "source": [
    "zhat = torch.mm(X,w)"
   ]
  },
  {
   "cell_type": "code",
   "execution_count": 59,
   "metadata": {},
   "outputs": [],
   "source": [
    "# sigma = torch.softmax(zhat)"
   ]
  },
  {
   "cell_type": "code",
   "execution_count": 60,
   "metadata": {},
   "outputs": [],
   "source": [
    "# logsoftmax 包含 log + softmax 功能,需要输入：zhat"
   ]
  },
  {
   "cell_type": "code",
   "execution_count": 61,
   "metadata": {},
   "outputs": [],
   "source": [
    "# NLLLoss()"
   ]
  },
  {
   "cell_type": "code",
   "execution_count": 63,
   "metadata": {},
   "outputs": [],
   "source": [
    "logsm = nn.LogSoftmax(dim=1) #对哪个维度进行softmax计算"
   ]
  },
  {
   "cell_type": "code",
   "execution_count": 64,
   "metadata": {},
   "outputs": [],
   "source": [
    "logsigma = logsm(zhat)"
   ]
  },
  {
   "cell_type": "code",
   "execution_count": 65,
   "metadata": {},
   "outputs": [
    {
     "data": {
      "text/plain": [
       "(tensor([[-1.1139, -0.8802, -1.3585],\n",
       "         [-1.0558, -0.8982, -1.4075],\n",
       "         [-1.0920, -1.0626, -1.1430],\n",
       "         ...,\n",
       "         [-1.0519, -0.9180, -1.3805],\n",
       "         [-1.0945, -1.1219, -1.0798],\n",
       "         [-1.0276, -0.8891, -1.4649]]),\n",
       " torch.Size([3000, 3]))"
      ]
     },
     "execution_count": 65,
     "metadata": {},
     "output_type": "execute_result"
    }
   ],
   "source": [
    "logsigma,logsigma.shape"
   ]
  },
  {
   "cell_type": "code",
   "execution_count": 66,
   "metadata": {},
   "outputs": [],
   "source": [
    "criterion = nn.NLLLoss()"
   ]
  },
  {
   "cell_type": "code",
   "execution_count": 71,
   "metadata": {},
   "outputs": [
    {
     "data": {
      "text/plain": [
       "tensor(1.1147)"
      ]
     },
     "execution_count": 71,
     "metadata": {},
     "output_type": "execute_result"
    }
   ],
   "source": [
    "loss = criterion(logsigma,y.long()) #需要标签独热编码矩阵即系数矩阵，使用.long转换为整形\n",
    "loss"
   ]
  },
  {
   "cell_type": "code",
   "execution_count": 69,
   "metadata": {},
   "outputs": [],
   "source": [
    "# 调用包装好的函数CrossEntropyLoss\n",
    "criterion = nn.CrossEntropyLoss() #jupyter快捷键tab有提示"
   ]
  },
  {
   "cell_type": "code",
   "execution_count": 72,
   "metadata": {},
   "outputs": [
    {
     "data": {
      "text/plain": [
       "tensor(1.1147)"
      ]
     },
     "execution_count": 72,
     "metadata": {},
     "output_type": "execute_result"
    }
   ],
   "source": [
    "loss = criterion(zhat,y.long())\n",
    "loss"
   ]
  }
 ],
 "metadata": {
  "kernelspec": {
   "display_name": "Python 3",
   "language": "python",
   "name": "python3"
  },
  "language_info": {
   "codemirror_mode": {
    "name": "ipython",
    "version": 3
   },
   "file_extension": ".py",
   "mimetype": "text/x-python",
   "name": "python",
   "nbconvert_exporter": "python",
   "pygments_lexer": "ipython3",
   "version": "3.8.3"
  }
 },
 "nbformat": 4,
 "nbformat_minor": 4
}
