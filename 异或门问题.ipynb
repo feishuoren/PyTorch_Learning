{
 "cells": [
  {
   "cell_type": "code",
   "execution_count": 1,
   "metadata": {},
   "outputs": [],
   "source": [
    "import torch"
   ]
  },
  {
   "cell_type": "code",
   "execution_count": 2,
   "metadata": {},
   "outputs": [],
   "source": [
    "# 特征张量X，w,andgate\n",
    "X = torch.tensor([[1,0,0],[1,1,0],[1,0,1],[1,1,1]],dtype=torch.float32)\n",
    "andgate = torch.tensor([0,0,0,1],dtype=torch.float32)\n",
    "\n",
    "# 定义w\n",
    "w = torch.tensor([-0.2,0.15,0.15],dtype=torch.float32)"
   ]
  },
  {
   "cell_type": "code",
   "execution_count": 5,
   "metadata": {},
   "outputs": [],
   "source": [
    "def LogisticR(X,w):\n",
    "    zhat = torch.mv(X,w) # 一维用mv(),二维用mm()\n",
    "    sigma = torch.sigmoid(zhat)\n",
    "    andhat = torch.tensor([int(x) for x in sigma >= 0.5],dtype=torch.float32)\n",
    "    return sigma,andhat"
   ]
  },
  {
   "cell_type": "code",
   "execution_count": 6,
   "metadata": {},
   "outputs": [],
   "source": [
    "sigma,andhat = LogisticR(X,w)"
   ]
  },
  {
   "cell_type": "code",
   "execution_count": 7,
   "metadata": {},
   "outputs": [
    {
     "data": {
      "text/plain": [
       "tensor([0.4502, 0.4875, 0.4875, 0.5250])"
      ]
     },
     "execution_count": 7,
     "metadata": {},
     "output_type": "execute_result"
    }
   ],
   "source": [
    "sigma"
   ]
  },
  {
   "cell_type": "code",
   "execution_count": 8,
   "metadata": {},
   "outputs": [
    {
     "data": {
      "text/plain": [
       "tensor([0., 0., 0., 1.])"
      ]
     },
     "execution_count": 8,
     "metadata": {},
     "output_type": "execute_result"
    }
   ],
   "source": [
    "andhat"
   ]
  },
  {
   "cell_type": "code",
   "execution_count": 9,
   "metadata": {},
   "outputs": [
    {
     "data": {
      "text/plain": [
       "tensor([0., 0., 0., 1.])"
      ]
     },
     "execution_count": 9,
     "metadata": {},
     "output_type": "execute_result"
    }
   ],
   "source": [
    "andgate"
   ]
  },
  {
   "cell_type": "code",
   "execution_count": 11,
   "metadata": {},
   "outputs": [],
   "source": [
    "import matplotlib.pyplot as plt\n",
    "import seaborn as sns"
   ]
  },
  {
   "cell_type": "code",
   "execution_count": 12,
   "metadata": {},
   "outputs": [
    {
     "data": {
      "text/plain": [
       "<matplotlib.collections.PathCollection at 0x7fca3b879820>"
      ]
     },
     "execution_count": 12,
     "metadata": {},
     "output_type": "execute_result"
    },
    {
     "data": {
      "image/png": "[encoded data removed]",
      "text/plain": [
       "<Figure size 360x216 with 1 Axes>"
      ]
     },
     "metadata": {
      "needs_background": "light"
     },
     "output_type": "display_data"
    }
   ],
   "source": [
    "# 设置一个画布\n",
    "plt.figure(figsize = (5,3)) # 设置画布大小\n",
    "plt.scatter(X[:,1],X[:,2]   # 散点图的横坐标和纵坐标\n",
    "            ,c = andgate    # 颜色 = 真实标签的类别\n",
    "            ,cmap = \"rainbow\"\n",
    "           )"
   ]
  },
  {
   "cell_type": "code",
   "execution_count": 16,
   "metadata": {},
   "outputs": [
    {
     "data": {
      "text/plain": [
       "(-1.0, 3.0)"
      ]
     },
     "execution_count": 16,
     "metadata": {},
     "output_type": "execute_result"
    },
    {
     "data": {
      "image/png": "[encoded data removed]",
      "text/plain": [
       "<Figure size 360x216 with 1 Axes>"
      ]
     },
     "metadata": {},
     "output_type": "display_data"
    }
   ],
   "source": [
    "# 设置一个画布\n",
    "plt.figure(figsize = (5,3)) # 设置画布大小\n",
    "plt.scatter(X[:,1],X[:,2]   # 散点图的横坐标和纵坐标\n",
    "            ,c = andgate    # 颜色 = 真实标签的类别\n",
    "            ,cmap = \"rainbow\"\n",
    "           )\n",
    "\n",
    "plt.xlim(-1,3) # 修改横纵坐标尺寸\n",
    "plt.ylim(-1,3)"
   ]
  },
  {
   "cell_type": "code",
   "execution_count": 17,
   "metadata": {},
   "outputs": [
    {
     "data": {
      "image/png": "[encoded data removed]",
      "text/plain": [
       "<Figure size 360x216 with 1 Axes>"
      ]
     },
     "metadata": {},
     "output_type": "display_data"
    }
   ],
   "source": [
    "# 设置一个画布\n",
    "plt.figure(figsize = (5,3)) # 设置画布大小\n",
    "plt.scatter(X[:,1],X[:,2]   # 散点图的横坐标和纵坐标\n",
    "            ,c = andgate    # 颜色 = 真实标签的类别\n",
    "            ,cmap = \"rainbow\"\n",
    "           )\n",
    "\n",
    "plt.style.use('seaborn-whitegrid')   # 设置图像风格\n",
    "sns.set_style(\"white\")\n",
    "\n",
    "plt.title(\"AND GATE\",fontsize=16)    # 设置图像标题\n",
    "\n",
    "plt.xlim(-1,3) # 设置横纵坐标尺寸\n",
    "plt.ylim(-1,3)\n",
    "\n",
    "plt.grid(alpha = .4,axis=\"y\")         # 显示背景中的网格\n",
    "plt.gca().spines[\"top\"].set_alpha(.0) # 让上方和右侧的坐标轴被隐藏\n",
    "plt.gca().spines[\"right\"].set_alpha(.0)"
   ]
  },
  {
   "cell_type": "code",
   "execution_count": null,
   "metadata": {},
   "outputs": [],
   "source": []
  }
 ],
 "metadata": {
  "kernelspec": {
   "display_name": "Python 3",
   "language": "python",
   "name": "python3"
  },
  "language_info": {
   "codemirror_mode": {
    "name": "ipython",
    "version": 3
   },
   "file_extension": ".py",
   "mimetype": "text/x-python",
   "name": "python",
   "nbconvert_exporter": "python",
   "pygments_lexer": "ipython3",
   "version": "3.8.3"
  }
 },
 "nbformat": 4,
 "nbformat_minor": 4
}
